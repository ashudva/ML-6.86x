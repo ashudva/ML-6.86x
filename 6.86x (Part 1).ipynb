{
 "cells": [
  {
   "cell_type": "markdown",
   "metadata": {},
   "source": [
    "# 6.86x - Introduction to ML Packages (Part 1)\n",
    "\n",
    "This tutorial is designed to provide a bird's eye view of the ML packages landscape.\n",
    "The goal is not to give an in-depth explanation of all the features of each packages, but rather demonstrate the purpose of a few widely used ML packages. For more details, we refer the reader to the packages' documentation and other online tutorials.\n",
    "\n",
    "You can go through the Jupyter, Numpy and Matplotlib sections before the course starts, and then start studying the next sections after you have completed unit 1."
   ]
  },
  {
   "cell_type": "markdown",
   "metadata": {},
   "source": [
    "https://github.com/varal7/ml-tutorial"
   ]
  },
  {
   "cell_type": "markdown",
   "metadata": {},
   "source": [
    "## Jupyter\n",
    "\n",
    "[Jupyter](https://jupyter.org) is not strictly speaking an ML package. It provides a browser front-end connected to an instance of IPython which allows REPL for quick testing, allows to create documents that intertwines code, output, images, and text. This is great for prototyping, demonstrations and tutorials, but terrible for actual coding. "
   ]
  },
  {
   "cell_type": "code",
   "execution_count": 1,
   "metadata": {
    "ExecuteTime": {
     "end_time": "2019-02-20T16:35:28.485220Z",
     "start_time": "2019-02-20T16:35:28.476294Z"
    }
   },
   "outputs": [
    {
     "data": {
      "text/plain": [
       "42"
      ]
     },
     "execution_count": 1,
     "metadata": {},
     "output_type": "execute_result"
    }
   ],
   "source": [
    "6*7"
   ]
  },
  {
   "cell_type": "code",
   "execution_count": 2,
   "metadata": {
    "ExecuteTime": {
     "end_time": "2019-02-20T16:35:28.492012Z",
     "start_time": "2019-02-20T16:35:28.487024Z"
    }
   },
   "outputs": [],
   "source": [
    "def tokenize(text):\n",
    "    return text.split(\" \")"
   ]
  },
  {
   "cell_type": "code",
   "execution_count": 3,
   "metadata": {
    "ExecuteTime": {
     "end_time": "2019-02-20T16:35:28.497368Z",
     "start_time": "2019-02-20T16:35:28.494171Z"
    },
    "scrolled": true
   },
   "outputs": [
    {
     "name": "stdout",
     "output_type": "stream",
     "text": [
      "['In', 'a', 'shocking', 'finding,', 'scientist', 'discovered', 'a', 'herd', 'of', 'unicorns', 'living', 'in', 'a', 'remote,', 'previously', 'unexplored', 'valley']\n"
     ]
    }
   ],
   "source": [
    "text = \"In a shocking finding, scientist discovered a herd of unicorns living in a remote, previously unexplored valley\"\n",
    "print(tokenize(text))"
   ]
  },
  {
   "cell_type": "markdown",
   "metadata": {},
   "source": [
    "## Numpy"
   ]
  },
  {
   "cell_type": "code",
   "execution_count": 4,
   "metadata": {
    "ExecuteTime": {
     "end_time": "2019-02-20T16:35:28.564975Z",
     "start_time": "2019-02-20T16:35:28.499321Z"
    }
   },
   "outputs": [],
   "source": [
    "import numpy as np"
   ]
  },
  {
   "cell_type": "markdown",
   "metadata": {},
   "source": [
    "[Numpy](http://www.numpy.org) is desiged to handle large multidimensional arrays and enable efficient computations with them. In the back, it runs pre-compiled C code which is much faster than, say, a Python `for` loop"
   ]
  },
  {
   "cell_type": "markdown",
   "metadata": {
    "ExecuteTime": {
     "end_time": "2019-02-19T16:57:10.540510Z",
     "start_time": "2019-02-19T16:57:10.496709Z"
    }
   },
   "source": [
    "In the Numpy tutorial, we have covered the basics of Numpy, numpy arrays, element-wise operations, matrices operations and generating random matrices. \n",
    "In this section, we'll cover indexing, slicing and broadcasting, which are useful concepts that will be reused in `Pandas` and `PyTorch`.\n"
   ]
  },
  {
   "cell_type": "markdown",
   "metadata": {},
   "source": [
    "### Indexing and slicing"
   ]
  },
  {
   "cell_type": "markdown",
   "metadata": {},
   "source": [
    "Numpy arrays can be indexed and sliced like regular python arrays"
   ]
  },
  {
   "cell_type": "code",
   "execution_count": 5,
   "metadata": {
    "ExecuteTime": {
     "end_time": "2019-02-20T16:35:28.569555Z",
     "start_time": "2019-02-20T16:35:28.566928Z"
    }
   },
   "outputs": [],
   "source": [
    "a_py = [1, 2, 3, 4, 5, 6, 7, 8, 9]\n",
    "a_np = np.array(a_py)"
   ]
  },
  {
   "cell_type": "code",
   "execution_count": 6,
   "metadata": {
    "ExecuteTime": {
     "end_time": "2019-02-20T16:35:28.575416Z",
     "start_time": "2019-02-20T16:35:28.571576Z"
    }
   },
   "outputs": [
    {
     "name": "stdout",
     "output_type": "stream",
     "text": [
      "[4, 6] [4 6]\n",
      "[3, 5, 7] [3 5 7]\n",
      "[9, 8, 7, 6, 5, 4, 3, 2, 1] [9 8 7 6 5 4 3 2 1]\n"
     ]
    }
   ],
   "source": [
    "print(a_py[3:7:2], a_np[3:7:2])\n",
    "print(a_py[2:-1:2], a_np[2:-1:2])\n",
    "print(a_py[::-1], a_np[::-1])"
   ]
  },
  {
   "cell_type": "markdown",
   "metadata": {},
   "source": [
    "But you can also use arrays to index other arrays"
   ]
  },
  {
   "cell_type": "code",
   "execution_count": 7,
   "metadata": {
    "ExecuteTime": {
     "end_time": "2019-02-20T16:35:28.581665Z",
     "start_time": "2019-02-20T16:35:28.577506Z"
    }
   },
   "outputs": [
    {
     "data": {
      "text/plain": [
       "array([8, 3])"
      ]
     },
     "execution_count": 7,
     "metadata": {},
     "output_type": "execute_result"
    }
   ],
   "source": [
    "idx = np.array([7,2])\n",
    "a_np[idx]"
   ]
  },
  {
   "cell_type": "code",
   "execution_count": 8,
   "metadata": {
    "ExecuteTime": {
     "end_time": "2019-02-20T16:35:28.585548Z",
     "start_time": "2019-02-20T16:35:28.583493Z"
    }
   },
   "outputs": [],
   "source": [
    "# a_py[idx]"
   ]
  },
  {
   "cell_type": "markdown",
   "metadata": {},
   "source": [
    "Which allows convenient querying, reindexing and even sorting"
   ]
  },
  {
   "cell_type": "code",
   "execution_count": 9,
   "metadata": {
    "ExecuteTime": {
     "end_time": "2019-02-20T16:35:28.591506Z",
     "start_time": "2019-02-20T16:35:28.587586Z"
    }
   },
   "outputs": [
    {
     "name": "stdout",
     "output_type": "stream",
     "text": [
      "[33 54 32 43 52 55 49 51 40 40]\n",
      "[151 185 178 186 188 186 188 199 151 192]\n"
     ]
    }
   ],
   "source": [
    "ages = np.random.randint(low=30, high=60, size=10)\n",
    "heights = np.random.randint(low=150, high=210, size=10)\n",
    "\n",
    "print(ages)\n",
    "print(heights)"
   ]
  },
  {
   "cell_type": "code",
   "execution_count": 10,
   "metadata": {
    "ExecuteTime": {
     "end_time": "2019-02-20T16:35:28.596276Z",
     "start_time": "2019-02-20T16:35:28.593558Z"
    }
   },
   "outputs": [
    {
     "name": "stdout",
     "output_type": "stream",
     "text": [
      "[ True False  True  True False False  True False  True  True]\n"
     ]
    }
   ],
   "source": [
    "print(ages < 50)"
   ]
  },
  {
   "cell_type": "code",
   "execution_count": 11,
   "metadata": {
    "ExecuteTime": {
     "end_time": "2019-02-20T16:35:28.602746Z",
     "start_time": "2019-02-20T16:35:28.598538Z"
    }
   },
   "outputs": [
    {
     "name": "stdout",
     "output_type": "stream",
     "text": [
      "[151 178 186 188 151 192]\n",
      "[33 32 43 49 40 40]\n"
     ]
    }
   ],
   "source": [
    "print(heights[ages < 50])\n",
    "print(ages[ages < 50])"
   ]
  },
  {
   "cell_type": "code",
   "execution_count": 12,
   "metadata": {
    "ExecuteTime": {
     "end_time": "2019-02-20T16:35:28.610474Z",
     "start_time": "2019-02-20T16:35:28.605443Z"
    }
   },
   "outputs": [
    {
     "name": "stdout",
     "output_type": "stream",
     "text": [
      "[3 5 7 6 0 2 9 4 8 1]\n",
      "[43 55 51 49 33 32 40 52 40 54]\n",
      "[186 186 199 188 151 178 192 188 151 185]\n"
     ]
    }
   ],
   "source": [
    "shuffled_idx = np.random.permutation(10)\n",
    "print(shuffled_idx)\n",
    "print(ages[shuffled_idx])\n",
    "print(heights[shuffled_idx])"
   ]
  },
  {
   "cell_type": "code",
   "execution_count": 13,
   "metadata": {
    "ExecuteTime": {
     "end_time": "2019-02-20T16:35:28.617215Z",
     "start_time": "2019-02-20T16:35:28.613422Z"
    }
   },
   "outputs": [
    {
     "name": "stdout",
     "output_type": "stream",
     "text": [
      "[2 0 8 9 3 6 7 4 1 5]\n",
      "[32 33 40 40 43 49 51 52 54 55]\n",
      "[178 151 151 192 186 188 199 188 185 186]\n"
     ]
    }
   ],
   "source": [
    "sorted_idx = np.argsort(ages)\n",
    "print(sorted_idx)\n",
    "print(ages[sorted_idx])\n",
    "print(heights[sorted_idx])"
   ]
  },
  {
   "cell_type": "markdown",
   "metadata": {},
   "source": [
    "### Broadcasting"
   ]
  },
  {
   "cell_type": "markdown",
   "metadata": {},
   "source": [
    "When Numpy is asked to perform an operation between arrays of differents sizes, it \"broadcasts\" the smaller one to the bigger one."
   ]
  },
  {
   "cell_type": "code",
   "execution_count": 14,
   "metadata": {
    "ExecuteTime": {
     "end_time": "2019-02-20T16:35:28.624048Z",
     "start_time": "2019-02-20T16:35:28.619908Z"
    }
   },
   "outputs": [
    {
     "data": {
      "text/plain": [
       "array([ 8, 10, 12])"
      ]
     },
     "execution_count": 14,
     "metadata": {},
     "output_type": "execute_result"
    }
   ],
   "source": [
    "a = np.array([4, 5, 6])\n",
    "b = np.array([2, 2, 2])\n",
    "a * b"
   ]
  },
  {
   "cell_type": "code",
   "execution_count": 15,
   "metadata": {
    "ExecuteTime": {
     "end_time": "2019-02-20T16:35:28.630303Z",
     "start_time": "2019-02-20T16:35:28.626019Z"
    }
   },
   "outputs": [
    {
     "data": {
      "text/plain": [
       "array([ 8, 10, 12])"
      ]
     },
     "execution_count": 15,
     "metadata": {},
     "output_type": "execute_result"
    }
   ],
   "source": [
    "a = np.array([4, 5, 6])\n",
    "b = 2\n",
    "a * b"
   ]
  },
  {
   "cell_type": "markdown",
   "metadata": {
    "ExecuteTime": {
     "end_time": "2019-02-19T17:16:34.417254Z",
     "start_time": "2019-02-19T17:16:34.411064Z"
    }
   },
   "source": [
    "The two snippets of code above are equivalent but the second is easier to read and also more efficient."
   ]
  },
  {
   "cell_type": "code",
   "execution_count": 16,
   "metadata": {
    "ExecuteTime": {
     "end_time": "2019-02-20T16:35:28.634813Z",
     "start_time": "2019-02-20T16:35:28.632236Z"
    }
   },
   "outputs": [],
   "source": [
    "a = np.arange(10).reshape(1,10)\n",
    "b = np.arange(12).reshape(12,1)"
   ]
  },
  {
   "cell_type": "code",
   "execution_count": 17,
   "metadata": {
    "ExecuteTime": {
     "end_time": "2019-02-20T16:35:28.639328Z",
     "start_time": "2019-02-20T16:35:28.636394Z"
    }
   },
   "outputs": [
    {
     "name": "stdout",
     "output_type": "stream",
     "text": [
      "[[0 1 2 3 4 5 6 7 8 9]]\n",
      "[[ 0]\n",
      " [ 1]\n",
      " [ 2]\n",
      " [ 3]\n",
      " [ 4]\n",
      " [ 5]\n",
      " [ 6]\n",
      " [ 7]\n",
      " [ 8]\n",
      " [ 9]\n",
      " [10]\n",
      " [11]]\n"
     ]
    }
   ],
   "source": [
    "print(a)\n",
    "print(b)"
   ]
  },
  {
   "cell_type": "code",
   "execution_count": 18,
   "metadata": {
    "ExecuteTime": {
     "end_time": "2019-02-20T16:35:28.643927Z",
     "start_time": "2019-02-20T16:35:28.640936Z"
    }
   },
   "outputs": [
    {
     "name": "stdout",
     "output_type": "stream",
     "text": [
      "[[ 0  0  0  0  0  0  0  0  0  0]\n",
      " [ 0  1  2  3  4  5  6  7  8  9]\n",
      " [ 0  2  4  6  8 10 12 14 16 18]\n",
      " [ 0  3  6  9 12 15 18 21 24 27]\n",
      " [ 0  4  8 12 16 20 24 28 32 36]\n",
      " [ 0  5 10 15 20 25 30 35 40 45]\n",
      " [ 0  6 12 18 24 30 36 42 48 54]\n",
      " [ 0  7 14 21 28 35 42 49 56 63]\n",
      " [ 0  8 16 24 32 40 48 56 64 72]\n",
      " [ 0  9 18 27 36 45 54 63 72 81]\n",
      " [ 0 10 20 30 40 50 60 70 80 90]\n",
      " [ 0 11 22 33 44 55 66 77 88 99]]\n"
     ]
    }
   ],
   "source": [
    "print(a * b)"
   ]
  },
  {
   "cell_type": "markdown",
   "metadata": {},
   "source": [
    "## Matplotlib\n"
   ]
  },
  {
   "cell_type": "code",
   "execution_count": 19,
   "metadata": {
    "ExecuteTime": {
     "end_time": "2019-02-20T16:35:28.850451Z",
     "start_time": "2019-02-20T16:35:28.645580Z"
    }
   },
   "outputs": [],
   "source": [
    "%matplotlib inline\n",
    "import matplotlib.pyplot as plt"
   ]
  },
  {
   "cell_type": "code",
   "execution_count": 20,
   "metadata": {
    "ExecuteTime": {
     "end_time": "2019-02-20T16:35:28.855206Z",
     "start_time": "2019-02-20T16:35:28.852980Z"
    }
   },
   "outputs": [],
   "source": [
    "plt.rcParams['figure.figsize'] = [10, 7]"
   ]
  },
  {
   "cell_type": "markdown",
   "metadata": {},
   "source": [
    "[Matplotlib](https://matplotlib.org) is the go-to library to produce plots with Python. It comes with two APIs: a MATLAB-like that a lot of people have learned to use and love, and an object-oriented API that we recommend using."
   ]
  },
  {
   "cell_type": "code",
   "execution_count": 21,
   "metadata": {
    "ExecuteTime": {
     "end_time": "2019-02-20T16:35:29.059343Z",
     "start_time": "2019-02-20T16:35:28.857510Z"
    }
   },
   "outputs": [
    {
     "data": {
      "text/plain": [
       "[<matplotlib.lines.Line2D at 0x115dcc160>]"
      ]
     },
     "execution_count": 21,
     "metadata": {},
     "output_type": "execute_result"
    },
    {
     "data": {
      "image/png": "[encoded data removed]",
      "text/plain": [
       "<Figure size 720x504 with 1 Axes>"
      ]
     },
     "metadata": {},
     "output_type": "display_data"
    }
   ],
   "source": [
    "x = np.linspace(-2*np.pi, 2*np.pi, 400)\n",
    "y = np.tanh(x)\n",
    "fig, ax = plt.subplots()\n",
    "ax.plot(x, y)"
   ]
  },
  {
   "cell_type": "markdown",
   "metadata": {},
   "source": [
    "You can plot multiple subplots in the same figure, or multiple functions in the same subplot"
   ]
  },
  {
   "cell_type": "code",
   "execution_count": 22,
   "metadata": {
    "ExecuteTime": {
     "end_time": "2019-02-20T16:35:29.335327Z",
     "start_time": "2019-02-20T16:35:29.061314Z"
    }
   },
   "outputs": [
    {
     "data": {
      "text/plain": [
       "[<matplotlib.lines.Line2D at 0x11813fef0>]"
      ]
     },
     "execution_count": 22,
     "metadata": {},
     "output_type": "execute_result"
    },
    {
     "data": {
      "image/png": "[encoded data removed]",
      "text/plain": [
       "<Figure size 720x504 with 2 Axes>"
      ]
     },
     "metadata": {},
     "output_type": "display_data"
    }
   ],
   "source": [
    "x = np.linspace(0, 2*np.pi, 400)\n",
    "y1 = np.tanh(x)\n",
    "y2 = np.cos(x**2)\n",
    "fig, axes = plt.subplots(1, 2, sharey=True)\n",
    "axes[1].plot(x, y1)\n",
    "axes[1].plot(x, -y1)\n",
    "axes[0].plot(x, y2)"
   ]
  },
  {
   "cell_type": "markdown",
   "metadata": {},
   "source": [
    "Matplotlib also comes with a lot of different options to customize, the colors, the labels, the axes, etc.\n",
    "\n",
    "For instance, see this [introduction to matplotlib](https://nbviewer.jupyter.org/github/jrjohansson/scientific-python-lectures/blob/master/Lecture-4-Matplotlib.ipynb)"
   ]
  },
  {
   "cell_type": "markdown",
   "metadata": {},
   "source": [
    "## Scikit-learn (read this after you have completed unit 1)"
   ]
  },
  {
   "cell_type": "markdown",
   "metadata": {},
   "source": [
    "[Scikit-learn](https://scikit-learn.org/) includes a number of features and utilities to kickstart your journey in Machine Learning. "
   ]
  },
  {
   "cell_type": "markdown",
   "metadata": {},
   "source": [
    "### A toy example"
   ]
  },
  {
   "cell_type": "code",
   "execution_count": 23,
   "metadata": {
    "ExecuteTime": {
     "end_time": "2019-02-20T16:35:29.678896Z",
     "start_time": "2019-02-20T16:35:29.337354Z"
    }
   },
   "outputs": [],
   "source": [
    "from sklearn.datasets import make_blobs"
   ]
  },
  {
   "cell_type": "code",
   "execution_count": 24,
   "metadata": {
    "ExecuteTime": {
     "end_time": "2019-02-20T16:35:29.686217Z",
     "start_time": "2019-02-20T16:35:29.681106Z"
    }
   },
   "outputs": [
    {
     "data": {
      "text/plain": [
       "(array([[0.4666179 , 3.86571303],\n",
       "        [2.84382807, 3.32650945],\n",
       "        [0.61121486, 2.51245978],\n",
       "        [3.81653365, 1.65175932],\n",
       "        [1.28097244, 0.62827388]]), array([0, 0, 0, 1, 1]))"
      ]
     },
     "execution_count": 24,
     "metadata": {},
     "output_type": "execute_result"
    }
   ],
   "source": [
    "X, y = make_blobs(n_samples=1000, centers=2, random_state=0)\n",
    "X[:5], y[:5]"
   ]
  },
  {
   "cell_type": "code",
   "execution_count": 25,
   "metadata": {
    "ExecuteTime": {
     "end_time": "2019-02-20T16:35:29.877682Z",
     "start_time": "2019-02-20T16:35:29.688363Z"
    },
    "scrolled": false
   },
   "outputs": [
    {
     "data": {
      "image/png": "[encoded data removed]",
      "text/plain": [
       "<Figure size 720x504 with 1 Axes>"
      ]
     },
     "metadata": {},
     "output_type": "display_data"
    }
   ],
   "source": [
    "fig, ax = plt.subplots()\n",
    "for label in [0, 1]:\n",
    "    mask = (y == label)\n",
    "    ax.scatter(X[mask, 0], X[mask, 1])"
   ]
  },
  {
   "cell_type": "code",
   "execution_count": 26,
   "metadata": {
    "ExecuteTime": {
     "end_time": "2019-02-20T16:35:29.892563Z",
     "start_time": "2019-02-20T16:35:29.879625Z"
    }
   },
   "outputs": [],
   "source": [
    "from sklearn.model_selection import train_test_split"
   ]
  },
  {
   "cell_type": "code",
   "execution_count": 27,
   "metadata": {
    "ExecuteTime": {
     "end_time": "2019-02-20T16:35:29.897027Z",
     "start_time": "2019-02-20T16:35:29.894282Z"
    }
   },
   "outputs": [],
   "source": [
    "X_train, X_test, y_train, y_test = train_test_split(X, y, test_size=0.2)"
   ]
  },
  {
   "cell_type": "code",
   "execution_count": 28,
   "metadata": {
    "ExecuteTime": {
     "end_time": "2019-02-20T16:35:30.099709Z",
     "start_time": "2019-02-20T16:35:29.898998Z"
    }
   },
   "outputs": [
    {
     "data": {
      "image/png": "[encoded data removed]",
      "text/plain": [
       "<Figure size 720x504 with 1 Axes>"
      ]
     },
     "metadata": {},
     "output_type": "display_data"
    }
   ],
   "source": [
    "fig, ax = plt.subplots()\n",
    "for label in [0, 1]:\n",
    "    mask = (y_train == label)\n",
    "    ax.scatter(X_train[mask, 0], X_train[mask, 1])\n",
    "for label in [0, 1]:\n",
    "    mask = (y_test == label)\n",
    "    ax.scatter(X_test[mask, 0], X_test[mask, 1])"
   ]
  },
  {
   "cell_type": "markdown",
   "metadata": {},
   "source": [
    "Sklearn uses a uniform and very consistent API, making it easy to switch algorithms"
   ]
  },
  {
   "cell_type": "markdown",
   "metadata": {},
   "source": [
    "For instance, training and predicting with a perceptron."
   ]
  },
  {
   "cell_type": "code",
   "execution_count": 29,
   "metadata": {
    "ExecuteTime": {
     "end_time": "2019-02-20T16:35:30.134116Z",
     "start_time": "2019-02-20T16:35:30.101899Z"
    }
   },
   "outputs": [],
   "source": [
    "from sklearn.linear_model import Perceptron\n",
    "from sklearn.svm import LinearSVC\n",
    "from sklearn.metrics import accuracy_score"
   ]
  },
  {
   "cell_type": "code",
   "execution_count": 30,
   "metadata": {
    "ExecuteTime": {
     "end_time": "2019-02-20T16:35:30.138638Z",
     "start_time": "2019-02-20T16:35:30.136452Z"
    }
   },
   "outputs": [],
   "source": [
    "clf = Perceptron(max_iter=40, random_state=0)\n",
    "# clf = LinearSVC(max_iter=40, random_state=0)"
   ]
  },
  {
   "cell_type": "code",
   "execution_count": 31,
   "metadata": {
    "ExecuteTime": {
     "end_time": "2019-02-20T16:35:30.147233Z",
     "start_time": "2019-02-20T16:35:30.140773Z"
    }
   },
   "outputs": [
    {
     "name": "stdout",
     "output_type": "stream",
     "text": [
      "Test accuracy: 0.9250\n"
     ]
    }
   ],
   "source": [
    "clf.fit(X_train, y_train)\n",
    "y_pred = clf.predict(X_test)\n",
    "\n",
    "print('Test accuracy: %.4f' % accuracy_score(y_test, y_pred))"
   ]
  },
  {
   "cell_type": "code",
   "execution_count": 32,
   "metadata": {
    "ExecuteTime": {
     "end_time": "2019-02-20T16:35:30.151712Z",
     "start_time": "2019-02-20T16:35:30.149388Z"
    }
   },
   "outputs": [],
   "source": [
    "theta = clf.coef_[0]\n",
    "theta_0 = clf.intercept_"
   ]
  },
  {
   "cell_type": "code",
   "execution_count": 33,
   "metadata": {
    "ExecuteTime": {
     "end_time": "2019-02-20T16:35:30.361222Z",
     "start_time": "2019-02-20T16:35:30.153768Z"
    }
   },
   "outputs": [
    {
     "data": {
      "text/plain": [
       "[<matplotlib.lines.Line2D at 0x11acccba8>]"
      ]
     },
     "execution_count": 33,
     "metadata": {},
     "output_type": "execute_result"
    },
    {
     "data": {
      "image/png": "[encoded data removed]",
      "text/plain": [
       "<Figure size 720x504 with 1 Axes>"
      ]
     },
     "metadata": {},
     "output_type": "display_data"
    }
   ],
   "source": [
    "fig, ax = plt.subplots()\n",
    "for label in [0, 1]:\n",
    "    mask = (y_train == label)\n",
    "    ax.scatter(X_train[mask, 0], X_train[mask, 1])\n",
    "for label in [0, 1]:\n",
    "    mask = (y_test == label)\n",
    "    ax.scatter(X_test[mask, 0], X_test[mask, 1])\n",
    "x_bnd = np.linspace(X[:, 0].min() - 1, X[:, 0].max() + 1,  400)\n",
    "y_bnd = - x_bnd * (theta[0] /theta[1]) - (theta_0 / theta[1])\n",
    "ax.plot(x_bnd, y_bnd)\n"
   ]
  },
  {
   "cell_type": "markdown",
   "metadata": {},
   "source": [
    "### Another toy example"
   ]
  },
  {
   "cell_type": "code",
   "execution_count": 34,
   "metadata": {
    "ExecuteTime": {
     "end_time": "2019-02-20T16:35:30.548447Z",
     "start_time": "2019-02-20T16:35:30.363336Z"
    }
   },
   "outputs": [
    {
     "data": {
      "image/png": "[encoded data removed]",
      "text/plain": [
       "<Figure size 720x504 with 1 Axes>"
      ]
     },
     "metadata": {},
     "output_type": "display_data"
    }
   ],
   "source": [
    "X, y = make_blobs(n_samples=500, centers=3, random_state=7)\n",
    "y[y==2] = 0\n",
    "fig, ax = plt.subplots()\n",
    "for label in [0, 1]:\n",
    "    mask = (y == label)\n",
    "    ax.scatter(X[mask, 0], X[mask, 1])"
   ]
  },
  {
   "cell_type": "code",
   "execution_count": 35,
   "metadata": {
    "ExecuteTime": {
     "end_time": "2019-02-20T16:35:30.553418Z",
     "start_time": "2019-02-20T16:35:30.550315Z"
    }
   },
   "outputs": [],
   "source": [
    "X_train, X_test, y_train, y_test = train_test_split(X, y, test_size=0.2)"
   ]
  },
  {
   "cell_type": "code",
   "execution_count": 36,
   "metadata": {
    "ExecuteTime": {
     "end_time": "2019-02-20T16:35:30.564550Z",
     "start_time": "2019-02-20T16:35:30.555270Z"
    }
   },
   "outputs": [
    {
     "data": {
      "text/plain": [
       "SVC(C=1.0, cache_size=200, class_weight=None, coef0=0.0,\n",
       "  decision_function_shape='ovr', degree=3, gamma='auto', kernel='rbf',\n",
       "  max_iter=-1, probability=False, random_state=0, shrinking=True,\n",
       "  tol=0.001, verbose=False)"
      ]
     },
     "execution_count": 36,
     "metadata": {},
     "output_type": "execute_result"
    }
   ],
   "source": [
    "from sklearn.svm import SVC\n",
    "# clf = SVC(kernel=\"linear\", random_state=0)\n",
    "clf = SVC(kernel=\"rbf\", random_state=0)\n",
    "clf.fit(X_train, y_train)"
   ]
  },
  {
   "cell_type": "code",
   "execution_count": 37,
   "metadata": {
    "ExecuteTime": {
     "end_time": "2019-02-20T16:35:30.570590Z",
     "start_time": "2019-02-20T16:35:30.566597Z"
    }
   },
   "outputs": [
    {
     "name": "stdout",
     "output_type": "stream",
     "text": [
      "Test accuracy: 1.0000\n"
     ]
    }
   ],
   "source": [
    "y_pred = clf.predict(X_test)\n",
    "\n",
    "print('Test accuracy: %.4f' % accuracy_score(y_test, y_pred))"
   ]
  },
  {
   "cell_type": "code",
   "execution_count": 38,
   "metadata": {
    "ExecuteTime": {
     "end_time": "2019-02-20T16:35:30.836667Z",
     "start_time": "2019-02-20T16:35:30.572440Z"
    }
   },
   "outputs": [
    {
     "data": {
      "text/plain": [
       "<matplotlib.contour.QuadContourSet at 0x11ae7f390>"
      ]
     },
     "execution_count": 38,
     "metadata": {},
     "output_type": "execute_result"
    },
    {
     "data": {
      "image/png": "[encoded data removed]",
      "text/plain": [
       "<Figure size 720x504 with 1 Axes>"
      ]
     },
     "metadata": {},
     "output_type": "display_data"
    }
   ],
   "source": [
    "x_min = X[:, 0].min()\n",
    "x_max = X[:, 0].max()\n",
    "y_min = X[:, 1].min()\n",
    "y_max = X[:, 1].max()\n",
    "\n",
    "XX, YY = np.mgrid[x_min:x_max:200j, y_min:y_max:200j]\n",
    "Z = clf.decision_function(np.c_[XX.ravel(), YY.ravel()])\n",
    "\n",
    "fig, ax = plt.subplots()\n",
    "for label in [0, 1]:\n",
    "    mask = (y == label)\n",
    "    ax.scatter(X[mask, 0], X[mask, 1])\n",
    "    \n",
    "Z = Z.reshape(XX.shape)\n",
    "ax.contour(XX, YY, Z, colors=\"black\",\n",
    "    linestyles=['--', '-', '--'], levels=[-.5, 0, .5])"
   ]
  },
  {
   "cell_type": "markdown",
   "metadata": {},
   "source": [
    "### Classify digits"
   ]
  },
  {
   "cell_type": "code",
   "execution_count": 39,
   "metadata": {
    "ExecuteTime": {
     "end_time": "2019-02-20T16:35:30.841115Z",
     "start_time": "2019-02-20T16:35:30.838828Z"
    }
   },
   "outputs": [],
   "source": [
    "# from sklearn.datasets import load_breast_cancer\n",
    "# breast_cancer = load_breast_cancer()\n",
    "# X, y = breast_cancer.data, breast_cancer.target\n",
    "# X_train, X_test, y_train, y_test = train_test_split(X, y, test_size=0.2, random_state=0)"
   ]
  },
  {
   "cell_type": "code",
   "execution_count": 40,
   "metadata": {
    "ExecuteTime": {
     "end_time": "2019-02-20T16:35:30.848232Z",
     "start_time": "2019-02-20T16:35:30.842930Z"
    }
   },
   "outputs": [],
   "source": [
    "from sklearn.datasets import load_digits"
   ]
  },
  {
   "cell_type": "code",
   "execution_count": 41,
   "metadata": {
    "ExecuteTime": {
     "end_time": "2019-02-20T16:35:30.924328Z",
     "start_time": "2019-02-20T16:35:30.850181Z"
    }
   },
   "outputs": [],
   "source": [
    "digits = load_digits()\n",
    "X, y = digits.data, digits.target\n",
    "X_train, X_test, y_train, y_test = train_test_split(X, y, test_size=0.2, random_state=0)"
   ]
  },
  {
   "cell_type": "code",
   "execution_count": 42,
   "metadata": {
    "ExecuteTime": {
     "end_time": "2019-02-20T16:35:31.114710Z",
     "start_time": "2019-02-20T16:35:30.926361Z"
    }
   },
   "outputs": [
    {
     "data": {
      "text/plain": [
       "<matplotlib.image.AxesImage at 0x11a634ac8>"
      ]
     },
     "execution_count": 42,
     "metadata": {},
     "output_type": "execute_result"
    },
    {
     "data": {
      "image/png": "[encoded data removed]",
      "text/plain": [
       "<Figure size 720x504 with 1 Axes>"
      ]
     },
     "metadata": {},
     "output_type": "display_data"
    }
   ],
   "source": [
    "fig, ax = plt.subplots()\n",
    "ax.matshow(digits.images[0])"
   ]
  },
  {
   "cell_type": "code",
   "execution_count": 43,
   "metadata": {
    "ExecuteTime": {
     "end_time": "2019-02-20T16:35:31.119708Z",
     "start_time": "2019-02-20T16:35:31.116440Z"
    }
   },
   "outputs": [
    {
     "data": {
      "text/plain": [
       "(1437, 64)"
      ]
     },
     "execution_count": 43,
     "metadata": {},
     "output_type": "execute_result"
    }
   ],
   "source": [
    "X_train.shape"
   ]
  },
  {
   "cell_type": "code",
   "execution_count": 44,
   "metadata": {
    "ExecuteTime": {
     "end_time": "2019-02-20T16:35:31.124124Z",
     "start_time": "2019-02-20T16:35:31.121711Z"
    }
   },
   "outputs": [],
   "source": [
    "clf = Perceptron(max_iter=40, random_state=0)"
   ]
  },
  {
   "cell_type": "code",
   "execution_count": 45,
   "metadata": {
    "ExecuteTime": {
     "end_time": "2019-02-20T16:35:31.191239Z",
     "start_time": "2019-02-20T16:35:31.126079Z"
    }
   },
   "outputs": [
    {
     "name": "stdout",
     "output_type": "stream",
     "text": [
      "Accuracy: 0.9389\n"
     ]
    }
   ],
   "source": [
    "clf.fit(X_train, y_train)\n",
    "y_pred = clf.predict(X_test)\n",
    "print('Accuracy: %.4f' % accuracy_score(y_test, y_pred))"
   ]
  },
  {
   "cell_type": "code",
   "execution_count": 46,
   "metadata": {
    "ExecuteTime": {
     "end_time": "2019-02-20T16:35:31.195327Z",
     "start_time": "2019-02-20T16:35:31.192983Z"
    }
   },
   "outputs": [],
   "source": [
    "clf = LinearSVC(C=1, random_state=0)"
   ]
  },
  {
   "cell_type": "code",
   "execution_count": 47,
   "metadata": {
    "ExecuteTime": {
     "end_time": "2019-02-20T16:35:31.287245Z",
     "start_time": "2019-02-20T16:35:31.197110Z"
    }
   },
   "outputs": [
    {
     "name": "stdout",
     "output_type": "stream",
     "text": [
      "Accuracy: 0.9361\n"
     ]
    }
   ],
   "source": [
    "clf.fit(X_train, y_train)\n",
    "y_pred = clf.predict(X_test)\n",
    "print('Accuracy: %.4f' % accuracy_score(y_test, y_pred))"
   ]
  },
  {
   "cell_type": "code",
   "execution_count": 48,
   "metadata": {
    "ExecuteTime": {
     "end_time": "2019-02-20T16:35:31.291955Z",
     "start_time": "2019-02-20T16:35:31.289158Z"
    }
   },
   "outputs": [],
   "source": [
    "from sklearn.metrics import confusion_matrix"
   ]
  },
  {
   "cell_type": "code",
   "execution_count": 49,
   "metadata": {
    "ExecuteTime": {
     "end_time": "2019-02-20T16:35:31.299243Z",
     "start_time": "2019-02-20T16:35:31.293825Z"
    }
   },
   "outputs": [
    {
     "data": {
      "text/plain": [
       "array([[27,  0,  0,  0,  0,  0,  0,  0,  0,  0],\n",
       "       [ 0, 29,  0,  0,  0,  0,  1,  0,  5,  0],\n",
       "       [ 0,  1, 33,  2,  0,  0,  0,  0,  0,  0],\n",
       "       [ 0,  0,  0, 29,  0,  0,  0,  0,  0,  0],\n",
       "       [ 0,  0,  0,  0, 30,  0,  0,  0,  0,  0],\n",
       "       [ 0,  1,  0,  0,  0, 38,  1,  0,  0,  0],\n",
       "       [ 0,  1,  0,  0,  0,  0, 43,  0,  0,  0],\n",
       "       [ 0,  2,  0,  0,  0,  0,  0, 37,  0,  0],\n",
       "       [ 0,  2,  1,  0,  0,  0,  0,  0, 35,  1],\n",
       "       [ 0,  0,  0,  2,  0,  1,  0,  0,  2, 36]])"
      ]
     },
     "execution_count": 49,
     "metadata": {},
     "output_type": "execute_result"
    }
   ],
   "source": [
    "confusion_matrix(y_test, clf.predict(X_test))"
   ]
  },
  {
   "cell_type": "markdown",
   "metadata": {},
   "source": [
    "Scikit-learn also includes utilities to quickly compute a cross validation score..."
   ]
  },
  {
   "cell_type": "code",
   "execution_count": 50,
   "metadata": {
    "ExecuteTime": {
     "end_time": "2019-02-20T16:35:31.653085Z",
     "start_time": "2019-02-20T16:35:31.301137Z"
    }
   },
   "outputs": [
    {
     "name": "stdout",
     "output_type": "stream",
     "text": [
      "Mean: 0.9443, Std: 0.0127\n"
     ]
    }
   ],
   "source": [
    "clf = LinearSVC(C=1, random_state=0)\n",
    "from sklearn.model_selection import cross_val_score\n",
    "scores =  cross_val_score(clf, X_train, y_train, cv=5)\n",
    "print(\"Mean: %.4f, Std: %.4f\" % (np.mean(scores), np.std(scores)))"
   ]
  },
  {
   "cell_type": "code",
   "execution_count": 51,
   "metadata": {
    "ExecuteTime": {
     "end_time": "2019-02-20T16:35:31.997193Z",
     "start_time": "2019-02-20T16:35:31.654977Z"
    }
   },
   "outputs": [
    {
     "name": "stdout",
     "output_type": "stream",
     "text": [
      "Mean: 0.9555, Std: 0.0101\n"
     ]
    }
   ],
   "source": [
    "clf = LinearSVC(C=0.1, random_state=0)\n",
    "scores =  cross_val_score(clf, X_train, y_train, cv=5)\n",
    "print(\"Mean: %.4f, Std: %.4f\" % (np.mean(scores), np.std(scores)))"
   ]
  },
  {
   "cell_type": "markdown",
   "metadata": {},
   "source": [
    "... or to perform a grid search"
   ]
  },
  {
   "cell_type": "code",
   "execution_count": 52,
   "metadata": {
    "ExecuteTime": {
     "end_time": "2019-02-20T16:35:32.001507Z",
     "start_time": "2019-02-20T16:35:31.998962Z"
    }
   },
   "outputs": [],
   "source": [
    "from sklearn.model_selection import GridSearchCV"
   ]
  },
  {
   "cell_type": "code",
   "execution_count": 53,
   "metadata": {
    "ExecuteTime": {
     "end_time": "2019-02-20T16:35:32.010342Z",
     "start_time": "2019-02-20T16:35:32.004094Z"
    }
   },
   "outputs": [],
   "source": [
    "clf = LinearSVC(random_state=0)\n",
    "param_grid = {'C': 10. ** np.arange(-6, 4)}\n",
    "grid_search = GridSearchCV(clf, param_grid=param_grid, cv=5, verbose=3, return_train_score=True)"
   ]
  },
  {
   "cell_type": "code",
   "execution_count": 54,
   "metadata": {
    "ExecuteTime": {
     "end_time": "2019-02-20T16:35:34.503447Z",
     "start_time": "2019-02-20T16:35:32.012143Z"
    }
   },
   "outputs": [
    {
     "name": "stdout",
     "output_type": "stream",
     "text": [
      "Fitting 5 folds for each of 10 candidates, totalling 50 fits\n",
      "[CV] C=1e-06 .........................................................\n",
      "[CV] ................ C=1e-06, score=0.8424657534246576, total=   0.0s\n",
      "[CV] C=1e-06 .........................................................\n",
      "[CV] ................ C=1e-06, score=0.8719723183391004, total=   0.0s\n",
      "[CV] C=1e-06 .........................................................\n",
      "[CV] ................ C=1e-06, score=0.9090909090909091, total=   0.0s\n",
      "[CV] C=1e-06 .........................................................\n",
      "[CV] ................ C=1e-06, score=0.8426573426573427, total=   0.0s\n",
      "[CV] C=1e-06 .........................................................\n",
      "[CV] ................. C=1e-06, score=0.897887323943662, total=   0.0s\n",
      "[CV] C=1e-05 .........................................................\n",
      "[CV] ................ C=1e-05, score=0.9075342465753424, total=   0.0s\n",
      "[CV] C=1e-05 .........................................................\n",
      "[CV] ................ C=1e-05, score=0.9134948096885813, total=   0.0s\n",
      "[CV] C=1e-05 .........................................................\n",
      "[CV] ................ C=1e-05, score=0.9440559440559441, total=   0.0s\n",
      "[CV] C=1e-05 .........................................................\n",
      "[CV] ................ C=1e-05, score=0.9020979020979021, total=   0.0s\n",
      "[CV] C=1e-05 .........................................................\n",
      "[CV] ................ C=1e-05, score=0.9330985915492958, total=   0.0s\n",
      "[CV] C=0.0001 ........................................................\n",
      "[CV] ................ C=0.0001, score=0.934931506849315, total=   0.0s\n",
      "[CV] C=0.0001 ........................................................\n",
      "[CV] ............... C=0.0001, score=0.9411764705882353, total=   0.0s\n",
      "[CV] C=0.0001 ........................................................\n",
      "[CV] ................ C=0.0001, score=0.965034965034965, total=   0.0s\n",
      "[CV] C=0.0001 ........................................................\n",
      "[CV] ............... C=0.0001, score=0.9405594405594405, total=   0.0s\n",
      "[CV] C=0.0001 ........................................................\n",
      "[CV] ............... C=0.0001, score=0.9683098591549296, total=   0.0s\n",
      "[CV] C=0.001 .........................................................\n"
     ]
    },
    {
     "name": "stderr",
     "output_type": "stream",
     "text": [
      "[Parallel(n_jobs=1)]: Done   1 out of   1 | elapsed:    0.0s remaining:    0.0s\n",
      "[Parallel(n_jobs=1)]: Done   2 out of   2 | elapsed:    0.0s remaining:    0.0s\n"
     ]
    },
    {
     "name": "stdout",
     "output_type": "stream",
     "text": [
      "[CV] ................. C=0.001, score=0.958904109589041, total=   0.0s\n",
      "[CV] C=0.001 .........................................................\n",
      "[CV] ................ C=0.001, score=0.9653979238754326, total=   0.0s\n",
      "[CV] C=0.001 .........................................................\n",
      "[CV] ................. C=0.001, score=0.965034965034965, total=   0.0s\n",
      "[CV] C=0.001 .........................................................\n",
      "[CV] ................. C=0.001, score=0.965034965034965, total=   0.0s\n",
      "[CV] C=0.001 .........................................................\n",
      "[CV] ................ C=0.001, score=0.9788732394366197, total=   0.0s\n",
      "[CV] C=0.01 ..........................................................\n",
      "[CV] ................. C=0.01, score=0.9554794520547946, total=   0.1s\n",
      "[CV] C=0.01 ..........................................................\n",
      "[CV] ................. C=0.01, score=0.9619377162629758, total=   0.1s\n",
      "[CV] C=0.01 ..........................................................\n",
      "[CV] ................. C=0.01, score=0.9685314685314685, total=   0.1s\n",
      "[CV] C=0.01 ..........................................................\n",
      "[CV] ................. C=0.01, score=0.9615384615384616, total=   0.1s\n",
      "[CV] C=0.01 ..........................................................\n",
      "[CV] .................. C=0.01, score=0.971830985915493, total=   0.1s\n",
      "[CV] C=0.1 ...........................................................\n",
      "[CV] .................. C=0.1, score=0.9452054794520548, total=   0.1s\n",
      "[CV] C=0.1 ...........................................................\n",
      "[CV] ................... C=0.1, score=0.972318339100346, total=   0.1s\n",
      "[CV] C=0.1 ...........................................................\n",
      "[CV] .................. C=0.1, score=0.9475524475524476, total=   0.1s\n",
      "[CV] C=0.1 ...........................................................\n",
      "[CV] .................. C=0.1, score=0.9615384615384616, total=   0.1s\n",
      "[CV] C=0.1 ...........................................................\n",
      "[CV] .................. C=0.1, score=0.9507042253521126, total=   0.1s\n",
      "[CV] C=1.0 ...........................................................\n",
      "[CV] .................. C=1.0, score=0.9417808219178082, total=   0.1s\n",
      "[CV] C=1.0 ...........................................................\n",
      "[CV] .................. C=1.0, score=0.9619377162629758, total=   0.1s\n",
      "[CV] C=1.0 ...........................................................\n",
      "[CV] .................. C=1.0, score=0.9370629370629371, total=   0.1s\n",
      "[CV] C=1.0 ...........................................................\n",
      "[CV] .................. C=1.0, score=0.9545454545454546, total=   0.1s\n",
      "[CV] C=1.0 ...........................................................\n",
      "[CV] ................... C=1.0, score=0.926056338028169, total=   0.1s\n",
      "[CV] C=10.0 ..........................................................\n",
      "[CV] ................. C=10.0, score=0.9383561643835616, total=   0.1s\n",
      "[CV] C=10.0 ..........................................................\n",
      "[CV] ................. C=10.0, score=0.9653979238754326, total=   0.1s\n",
      "[CV] C=10.0 ..........................................................\n",
      "[CV] ................. C=10.0, score=0.9335664335664335, total=   0.1s\n",
      "[CV] C=10.0 ..........................................................\n",
      "[CV] .................. C=10.0, score=0.951048951048951, total=   0.1s\n",
      "[CV] C=10.0 ..........................................................\n",
      "[CV] .................. C=10.0, score=0.954225352112676, total=   0.1s\n",
      "[CV] C=100.0 .........................................................\n",
      "[CV] ................. C=100.0, score=0.928082191780822, total=   0.1s\n",
      "[CV] C=100.0 .........................................................\n",
      "[CV] ................ C=100.0, score=0.9446366782006921, total=   0.1s\n",
      "[CV] C=100.0 .........................................................\n",
      "[CV] ................ C=100.0, score=0.9335664335664335, total=   0.1s\n",
      "[CV] C=100.0 .........................................................\n",
      "[CV] ................ C=100.0, score=0.9475524475524476, total=   0.1s\n",
      "[CV] C=100.0 .........................................................\n",
      "[CV] ................ C=100.0, score=0.9401408450704225, total=   0.1s\n",
      "[CV] C=1000.0 ........................................................\n",
      "[CV] ............... C=1000.0, score=0.9383561643835616, total=   0.1s\n",
      "[CV] C=1000.0 ........................................................\n",
      "[CV] ............... C=1000.0, score=0.9550173010380623, total=   0.1s\n",
      "[CV] C=1000.0 ........................................................\n",
      "[CV] ............... C=1000.0, score=0.9300699300699301, total=   0.1s\n",
      "[CV] C=1000.0 ........................................................\n",
      "[CV] ............... C=1000.0, score=0.9545454545454546, total=   0.1s\n",
      "[CV] C=1000.0 ........................................................\n",
      "[CV] ............... C=1000.0, score=0.9436619718309859, total=   0.1s\n"
     ]
    },
    {
     "name": "stderr",
     "output_type": "stream",
     "text": [
      "[Parallel(n_jobs=1)]: Done  50 out of  50 | elapsed:    2.5s finished\n"
     ]
    }
   ],
   "source": [
    "grid_search.fit(X_train, y_train);"
   ]
  },
  {
   "cell_type": "code",
   "execution_count": 55,
   "metadata": {
    "ExecuteTime": {
     "end_time": "2019-02-20T16:35:34.508680Z",
     "start_time": "2019-02-20T16:35:34.505328Z"
    }
   },
   "outputs": [
    {
     "name": "stdout",
     "output_type": "stream",
     "text": [
      "{'C': 0.001}\n"
     ]
    }
   ],
   "source": [
    "print(grid_search.best_params_)"
   ]
  },
  {
   "cell_type": "code",
   "execution_count": 56,
   "metadata": {
    "ExecuteTime": {
     "end_time": "2019-02-20T16:35:34.513596Z",
     "start_time": "2019-02-20T16:35:34.510724Z"
    }
   },
   "outputs": [
    {
     "name": "stdout",
     "output_type": "stream",
     "text": [
      "0.9665970772442589\n"
     ]
    }
   ],
   "source": [
    "print(grid_search.best_score_)"
   ]
  },
  {
   "cell_type": "code",
   "execution_count": 57,
   "metadata": {
    "ExecuteTime": {
     "end_time": "2019-02-20T16:35:34.519424Z",
     "start_time": "2019-02-20T16:35:34.515521Z"
    }
   },
   "outputs": [
    {
     "name": "stdout",
     "output_type": "stream",
     "text": [
      "Accuracy: 0.9639\n"
     ]
    }
   ],
   "source": [
    "y_pred = grid_search.predict(X_test)\n",
    "print('Accuracy: %.4f' % accuracy_score(y_test, y_pred))"
   ]
  },
  {
   "cell_type": "markdown",
   "metadata": {},
   "source": [
    "And a lot more features! \n",
    "We have only looked at some classification models and some model selection features, but sklearn can also be used for regression, "
   ]
  },
  {
   "cell_type": "markdown",
   "metadata": {},
   "source": [
    "## Pandas"
   ]
  },
  {
   "cell_type": "code",
   "execution_count": 58,
   "metadata": {
    "ExecuteTime": {
     "end_time": "2019-02-20T16:35:34.766901Z",
     "start_time": "2019-02-20T16:35:34.521399Z"
    }
   },
   "outputs": [],
   "source": [
    "import pandas as pd"
   ]
  },
  {
   "cell_type": "markdown",
   "metadata": {},
   "source": [
    "[Pandas](http://pandas.pydata.org) is a library that provides a set of tools for data analysis (Python Data Analysis Library). "
   ]
  },
  {
   "cell_type": "markdown",
   "metadata": {},
   "source": [
    "Pandas dataframes can be created by importing a CSV file (or TSV, or JSON, or SQL, etc.)"
   ]
  },
  {
   "cell_type": "code",
   "execution_count": 59,
   "metadata": {
    "ExecuteTime": {
     "end_time": "2019-02-20T16:35:34.771137Z",
     "start_time": "2019-02-20T16:35:34.768606Z"
    }
   },
   "outputs": [],
   "source": [
    "# df = pd.read_csv(\"file.csv\")"
   ]
  },
  {
   "cell_type": "markdown",
   "metadata": {},
   "source": [
    "Pandas dataframes can also be created directly from a dictionary of arrays."
   ]
  },
  {
   "cell_type": "code",
   "execution_count": 60,
   "metadata": {
    "ExecuteTime": {
     "end_time": "2019-02-20T16:35:34.783033Z",
     "start_time": "2019-02-20T16:35:34.774533Z"
    }
   },
   "outputs": [
    {
     "name": "stdout",
     "output_type": "stream",
     "text": [
      "{'mean_fit_time': array([0.01142702, 0.01115093, 0.01050925, 0.02054195, 0.07160912,\n",
      "       0.06751108, 0.06907425, 0.06755571, 0.07172804, 0.07606635]), 'std_fit_time': array([0.00053882, 0.00038095, 0.00030056, 0.0004086 , 0.00281235,\n",
      "       0.00261869, 0.00117984, 0.00326013, 0.00573768, 0.0030746 ]), 'mean_score_time': array([0.00030556, 0.00029874, 0.00025778, 0.00029097, 0.00029759,\n",
      "       0.00030074, 0.00031796, 0.00030222, 0.00032935, 0.00035524]), 'std_score_time': array([4.90965395e-05, 1.10162491e-04, 3.79735462e-05, 3.75066905e-05,\n",
      "       4.90331443e-06, 1.30740366e-05, 3.27037297e-05, 1.36716789e-05,\n",
      "       3.10957060e-05, 4.44746199e-05]), 'param_C': masked_array(data=[1e-06, 1e-05, 0.0001, 0.001, 0.01, 0.1, 1.0, 10.0,\n",
      "                   100.0, 1000.0],\n",
      "             mask=[False, False, False, False, False, False, False, False,\n",
      "                   False, False],\n",
      "       fill_value='?',\n",
      "            dtype=object), 'params': [{'C': 1e-06}, {'C': 1e-05}, {'C': 0.0001}, {'C': 0.001}, {'C': 0.01}, {'C': 0.1}, {'C': 1.0}, {'C': 10.0}, {'C': 100.0}, {'C': 1000.0}], 'split0_test_score': array([0.84246575, 0.90753425, 0.93493151, 0.95890411, 0.95547945,\n",
      "       0.94520548, 0.94178082, 0.93835616, 0.92808219, 0.93835616]), 'split1_test_score': array([0.87197232, 0.91349481, 0.94117647, 0.96539792, 0.96193772,\n",
      "       0.97231834, 0.96193772, 0.96539792, 0.94463668, 0.9550173 ]), 'split2_test_score': array([0.90909091, 0.94405594, 0.96503497, 0.96503497, 0.96853147,\n",
      "       0.94755245, 0.93706294, 0.93356643, 0.93356643, 0.93006993]), 'split3_test_score': array([0.84265734, 0.9020979 , 0.94055944, 0.96503497, 0.96153846,\n",
      "       0.96153846, 0.95454545, 0.95104895, 0.94755245, 0.95454545]), 'split4_test_score': array([0.89788732, 0.93309859, 0.96830986, 0.97887324, 0.97183099,\n",
      "       0.95070423, 0.92605634, 0.95422535, 0.94014085, 0.94366197]), 'mean_test_score': array([0.87265136, 0.91997216, 0.94989562, 0.96659708, 0.9638135 ,\n",
      "       0.95546277, 0.94432846, 0.94850383, 0.93876131, 0.94432846]), 'std_test_score': array([0.02746696, 0.01590452, 0.01381196, 0.00656282, 0.0057433 ,\n",
      "       0.0101387 , 0.0126865 , 0.01142328, 0.00715855, 0.00956827]), 'rank_test_score': array([10,  9,  4,  1,  2,  3,  6,  5,  8,  6], dtype=int32), 'split0_train_score': array([0.88296943, 0.92925764, 0.96331878, 0.98253275, 0.99388646,\n",
      "       0.99825328, 0.99737991, 0.99475983, 0.99563319, 0.99650655]), 'split1_train_score': array([0.88066202, 0.93118467, 0.96428571, 0.9825784 , 0.99303136,\n",
      "       0.99651568, 0.99738676, 0.99216028, 0.98954704, 0.98432056]), 'split2_train_score': array([0.86967854, 0.92267593, 0.96003475, 0.98349262, 0.99478714,\n",
      "       0.99826238, 0.99739357, 0.99478714, 0.99565595, 0.99565595]), 'split3_train_score': array([0.88184188, 0.93223284, 0.96090356, 0.98001738, 0.99218071,\n",
      "       0.99652476, 0.99565595, 0.9913119 , 0.98783666, 0.99391833]), 'split4_train_score': array([0.8725065 , 0.92541197, 0.95836947, 0.98178664, 0.99392888,\n",
      "       0.99566349, 0.98091934, 0.99045967, 0.99132697, 0.98785776]), 'mean_train_score': array([0.87753168, 0.92815261, 0.96138246, 0.98208156, 0.99356291,\n",
      "       0.99704392, 0.99374711, 0.99269576, 0.99199996, 0.99165183]), 'std_train_score': array([0.00538275, 0.00359355, 0.00215879, 0.00116527, 0.00088661,\n",
      "       0.00103936, 0.00644882, 0.00177967, 0.00317394, 0.00475144])}\n"
     ]
    }
   ],
   "source": [
    "print(grid_search.cv_results_)"
   ]
  },
  {
   "cell_type": "code",
   "execution_count": 61,
   "metadata": {
    "ExecuteTime": {
     "end_time": "2019-02-20T16:35:34.824275Z",
     "start_time": "2019-02-20T16:35:34.784975Z"
    }
   },
   "outputs": [
    {
     "data": {
      "text/html": [
       "<div>\n",
       "<style scoped>\n",
       "    .dataframe tbody tr th:only-of-type {\n",
       "        vertical-align: middle;\n",
       "    }\n",
       "\n",
       "    .dataframe tbody tr th {\n",
       "        vertical-align: top;\n",
       "    }\n",
       "\n",
       "    .dataframe thead th {\n",
       "        text-align: right;\n",
       "    }\n",
       "</style>\n",
       "<table border=\"1\" class=\"dataframe\">\n",
       "  <thead>\n",
       "    <tr style=\"text-align: right;\">\n",
       "      <th></th>\n",
       "      <th>mean_fit_time</th>\n",
       "      <th>std_fit_time</th>\n",
       "      <th>mean_score_time</th>\n",
       "      <th>std_score_time</th>\n",
       "      <th>param_C</th>\n",
       "      <th>params</th>\n",
       "      <th>split0_test_score</th>\n",
       "      <th>split1_test_score</th>\n",
       "      <th>split2_test_score</th>\n",
       "      <th>split3_test_score</th>\n",
       "      <th>...</th>\n",
       "      <th>mean_test_score</th>\n",
       "      <th>std_test_score</th>\n",
       "      <th>rank_test_score</th>\n",
       "      <th>split0_train_score</th>\n",
       "      <th>split1_train_score</th>\n",
       "      <th>split2_train_score</th>\n",
       "      <th>split3_train_score</th>\n",
       "      <th>split4_train_score</th>\n",
       "      <th>mean_train_score</th>\n",
       "      <th>std_train_score</th>\n",
       "    </tr>\n",
       "  </thead>\n",
       "  <tbody>\n",
       "    <tr>\n",
       "      <th>0</th>\n",
       "      <td>0.011427</td>\n",
       "      <td>0.000539</td>\n",
       "      <td>0.000306</td>\n",
       "      <td>0.000049</td>\n",
       "      <td>1e-06</td>\n",
       "      <td>{'C': 1e-06}</td>\n",
       "      <td>0.842466</td>\n",
       "      <td>0.871972</td>\n",
       "      <td>0.909091</td>\n",
       "      <td>0.842657</td>\n",
       "      <td>...</td>\n",
       "      <td>0.872651</td>\n",
       "      <td>0.027467</td>\n",
       "      <td>10</td>\n",
       "      <td>0.882969</td>\n",
       "      <td>0.880662</td>\n",
       "      <td>0.869679</td>\n",
       "      <td>0.881842</td>\n",
       "      <td>0.872507</td>\n",
       "      <td>0.877532</td>\n",
       "      <td>0.005383</td>\n",
       "    </tr>\n",
       "    <tr>\n",
       "      <th>1</th>\n",
       "      <td>0.011151</td>\n",
       "      <td>0.000381</td>\n",
       "      <td>0.000299</td>\n",
       "      <td>0.000110</td>\n",
       "      <td>1e-05</td>\n",
       "      <td>{'C': 1e-05}</td>\n",
       "      <td>0.907534</td>\n",
       "      <td>0.913495</td>\n",
       "      <td>0.944056</td>\n",
       "      <td>0.902098</td>\n",
       "      <td>...</td>\n",
       "      <td>0.919972</td>\n",
       "      <td>0.015905</td>\n",
       "      <td>9</td>\n",
       "      <td>0.929258</td>\n",
       "      <td>0.931185</td>\n",
       "      <td>0.922676</td>\n",
       "      <td>0.932233</td>\n",
       "      <td>0.925412</td>\n",
       "      <td>0.928153</td>\n",
       "      <td>0.003594</td>\n",
       "    </tr>\n",
       "    <tr>\n",
       "      <th>2</th>\n",
       "      <td>0.010509</td>\n",
       "      <td>0.000301</td>\n",
       "      <td>0.000258</td>\n",
       "      <td>0.000038</td>\n",
       "      <td>0.0001</td>\n",
       "      <td>{'C': 0.0001}</td>\n",
       "      <td>0.934932</td>\n",
       "      <td>0.941176</td>\n",
       "      <td>0.965035</td>\n",
       "      <td>0.940559</td>\n",
       "      <td>...</td>\n",
       "      <td>0.949896</td>\n",
       "      <td>0.013812</td>\n",
       "      <td>4</td>\n",
       "      <td>0.963319</td>\n",
       "      <td>0.964286</td>\n",
       "      <td>0.960035</td>\n",
       "      <td>0.960904</td>\n",
       "      <td>0.958369</td>\n",
       "      <td>0.961382</td>\n",
       "      <td>0.002159</td>\n",
       "    </tr>\n",
       "    <tr>\n",
       "      <th>3</th>\n",
       "      <td>0.020542</td>\n",
       "      <td>0.000409</td>\n",
       "      <td>0.000291</td>\n",
       "      <td>0.000038</td>\n",
       "      <td>0.001</td>\n",
       "      <td>{'C': 0.001}</td>\n",
       "      <td>0.958904</td>\n",
       "      <td>0.965398</td>\n",
       "      <td>0.965035</td>\n",
       "      <td>0.965035</td>\n",
       "      <td>...</td>\n",
       "      <td>0.966597</td>\n",
       "      <td>0.006563</td>\n",
       "      <td>1</td>\n",
       "      <td>0.982533</td>\n",
       "      <td>0.982578</td>\n",
       "      <td>0.983493</td>\n",
       "      <td>0.980017</td>\n",
       "      <td>0.981787</td>\n",
       "      <td>0.982082</td>\n",
       "      <td>0.001165</td>\n",
       "    </tr>\n",
       "    <tr>\n",
       "      <th>4</th>\n",
       "      <td>0.071609</td>\n",
       "      <td>0.002812</td>\n",
       "      <td>0.000298</td>\n",
       "      <td>0.000005</td>\n",
       "      <td>0.01</td>\n",
       "      <td>{'C': 0.01}</td>\n",
       "      <td>0.955479</td>\n",
       "      <td>0.961938</td>\n",
       "      <td>0.968531</td>\n",
       "      <td>0.961538</td>\n",
       "      <td>...</td>\n",
       "      <td>0.963814</td>\n",
       "      <td>0.005743</td>\n",
       "      <td>2</td>\n",
       "      <td>0.993886</td>\n",
       "      <td>0.993031</td>\n",
       "      <td>0.994787</td>\n",
       "      <td>0.992181</td>\n",
       "      <td>0.993929</td>\n",
       "      <td>0.993563</td>\n",
       "      <td>0.000887</td>\n",
       "    </tr>\n",
       "    <tr>\n",
       "      <th>5</th>\n",
       "      <td>0.067511</td>\n",
       "      <td>0.002619</td>\n",
       "      <td>0.000301</td>\n",
       "      <td>0.000013</td>\n",
       "      <td>0.1</td>\n",
       "      <td>{'C': 0.1}</td>\n",
       "      <td>0.945205</td>\n",
       "      <td>0.972318</td>\n",
       "      <td>0.947552</td>\n",
       "      <td>0.961538</td>\n",
       "      <td>...</td>\n",
       "      <td>0.955463</td>\n",
       "      <td>0.010139</td>\n",
       "      <td>3</td>\n",
       "      <td>0.998253</td>\n",
       "      <td>0.996516</td>\n",
       "      <td>0.998262</td>\n",
       "      <td>0.996525</td>\n",
       "      <td>0.995663</td>\n",
       "      <td>0.997044</td>\n",
       "      <td>0.001039</td>\n",
       "    </tr>\n",
       "    <tr>\n",
       "      <th>6</th>\n",
       "      <td>0.069074</td>\n",
       "      <td>0.001180</td>\n",
       "      <td>0.000318</td>\n",
       "      <td>0.000033</td>\n",
       "      <td>1</td>\n",
       "      <td>{'C': 1.0}</td>\n",
       "      <td>0.941781</td>\n",
       "      <td>0.961938</td>\n",
       "      <td>0.937063</td>\n",
       "      <td>0.954545</td>\n",
       "      <td>...</td>\n",
       "      <td>0.944328</td>\n",
       "      <td>0.012686</td>\n",
       "      <td>6</td>\n",
       "      <td>0.997380</td>\n",
       "      <td>0.997387</td>\n",
       "      <td>0.997394</td>\n",
       "      <td>0.995656</td>\n",
       "      <td>0.980919</td>\n",
       "      <td>0.993747</td>\n",
       "      <td>0.006449</td>\n",
       "    </tr>\n",
       "    <tr>\n",
       "      <th>7</th>\n",
       "      <td>0.067556</td>\n",
       "      <td>0.003260</td>\n",
       "      <td>0.000302</td>\n",
       "      <td>0.000014</td>\n",
       "      <td>10</td>\n",
       "      <td>{'C': 10.0}</td>\n",
       "      <td>0.938356</td>\n",
       "      <td>0.965398</td>\n",
       "      <td>0.933566</td>\n",
       "      <td>0.951049</td>\n",
       "      <td>...</td>\n",
       "      <td>0.948504</td>\n",
       "      <td>0.011423</td>\n",
       "      <td>5</td>\n",
       "      <td>0.994760</td>\n",
       "      <td>0.992160</td>\n",
       "      <td>0.994787</td>\n",
       "      <td>0.991312</td>\n",
       "      <td>0.990460</td>\n",
       "      <td>0.992696</td>\n",
       "      <td>0.001780</td>\n",
       "    </tr>\n",
       "    <tr>\n",
       "      <th>8</th>\n",
       "      <td>0.071728</td>\n",
       "      <td>0.005738</td>\n",
       "      <td>0.000329</td>\n",
       "      <td>0.000031</td>\n",
       "      <td>100</td>\n",
       "      <td>{'C': 100.0}</td>\n",
       "      <td>0.928082</td>\n",
       "      <td>0.944637</td>\n",
       "      <td>0.933566</td>\n",
       "      <td>0.947552</td>\n",
       "      <td>...</td>\n",
       "      <td>0.938761</td>\n",
       "      <td>0.007159</td>\n",
       "      <td>8</td>\n",
       "      <td>0.995633</td>\n",
       "      <td>0.989547</td>\n",
       "      <td>0.995656</td>\n",
       "      <td>0.987837</td>\n",
       "      <td>0.991327</td>\n",
       "      <td>0.992000</td>\n",
       "      <td>0.003174</td>\n",
       "    </tr>\n",
       "    <tr>\n",
       "      <th>9</th>\n",
       "      <td>0.076066</td>\n",
       "      <td>0.003075</td>\n",
       "      <td>0.000355</td>\n",
       "      <td>0.000044</td>\n",
       "      <td>1000</td>\n",
       "      <td>{'C': 1000.0}</td>\n",
       "      <td>0.938356</td>\n",
       "      <td>0.955017</td>\n",
       "      <td>0.930070</td>\n",
       "      <td>0.954545</td>\n",
       "      <td>...</td>\n",
       "      <td>0.944328</td>\n",
       "      <td>0.009568</td>\n",
       "      <td>6</td>\n",
       "      <td>0.996507</td>\n",
       "      <td>0.984321</td>\n",
       "      <td>0.995656</td>\n",
       "      <td>0.993918</td>\n",
       "      <td>0.987858</td>\n",
       "      <td>0.991652</td>\n",
       "      <td>0.004751</td>\n",
       "    </tr>\n",
       "  </tbody>\n",
       "</table>\n",
       "<p>10 rows × 21 columns</p>\n",
       "</div>"
      ],
      "text/plain": [
       "   mean_fit_time  std_fit_time  mean_score_time  std_score_time param_C  \\\n",
       "0       0.011427      0.000539         0.000306        0.000049   1e-06   \n",
       "1       0.011151      0.000381         0.000299        0.000110   1e-05   \n",
       "2       0.010509      0.000301         0.000258        0.000038  0.0001   \n",
       "3       0.020542      0.000409         0.000291        0.000038   0.001   \n",
       "4       0.071609      0.002812         0.000298        0.000005    0.01   \n",
       "5       0.067511      0.002619         0.000301        0.000013     0.1   \n",
       "6       0.069074      0.001180         0.000318        0.000033       1   \n",
       "7       0.067556      0.003260         0.000302        0.000014      10   \n",
       "8       0.071728      0.005738         0.000329        0.000031     100   \n",
       "9       0.076066      0.003075         0.000355        0.000044    1000   \n",
       "\n",
       "          params  split0_test_score  split1_test_score  split2_test_score  \\\n",
       "0   {'C': 1e-06}           0.842466           0.871972           0.909091   \n",
       "1   {'C': 1e-05}           0.907534           0.913495           0.944056   \n",
       "2  {'C': 0.0001}           0.934932           0.941176           0.965035   \n",
       "3   {'C': 0.001}           0.958904           0.965398           0.965035   \n",
       "4    {'C': 0.01}           0.955479           0.961938           0.968531   \n",
       "5     {'C': 0.1}           0.945205           0.972318           0.947552   \n",
       "6     {'C': 1.0}           0.941781           0.961938           0.937063   \n",
       "7    {'C': 10.0}           0.938356           0.965398           0.933566   \n",
       "8   {'C': 100.0}           0.928082           0.944637           0.933566   \n",
       "9  {'C': 1000.0}           0.938356           0.955017           0.930070   \n",
       "\n",
       "   split3_test_score       ...         mean_test_score  std_test_score  \\\n",
       "0           0.842657       ...                0.872651        0.027467   \n",
       "1           0.902098       ...                0.919972        0.015905   \n",
       "2           0.940559       ...                0.949896        0.013812   \n",
       "3           0.965035       ...                0.966597        0.006563   \n",
       "4           0.961538       ...                0.963814        0.005743   \n",
       "5           0.961538       ...                0.955463        0.010139   \n",
       "6           0.954545       ...                0.944328        0.012686   \n",
       "7           0.951049       ...                0.948504        0.011423   \n",
       "8           0.947552       ...                0.938761        0.007159   \n",
       "9           0.954545       ...                0.944328        0.009568   \n",
       "\n",
       "   rank_test_score  split0_train_score  split1_train_score  \\\n",
       "0               10            0.882969            0.880662   \n",
       "1                9            0.929258            0.931185   \n",
       "2                4            0.963319            0.964286   \n",
       "3                1            0.982533            0.982578   \n",
       "4                2            0.993886            0.993031   \n",
       "5                3            0.998253            0.996516   \n",
       "6                6            0.997380            0.997387   \n",
       "7                5            0.994760            0.992160   \n",
       "8                8            0.995633            0.989547   \n",
       "9                6            0.996507            0.984321   \n",
       "\n",
       "   split2_train_score  split3_train_score  split4_train_score  \\\n",
       "0            0.869679            0.881842            0.872507   \n",
       "1            0.922676            0.932233            0.925412   \n",
       "2            0.960035            0.960904            0.958369   \n",
       "3            0.983493            0.980017            0.981787   \n",
       "4            0.994787            0.992181            0.993929   \n",
       "5            0.998262            0.996525            0.995663   \n",
       "6            0.997394            0.995656            0.980919   \n",
       "7            0.994787            0.991312            0.990460   \n",
       "8            0.995656            0.987837            0.991327   \n",
       "9            0.995656            0.993918            0.987858   \n",
       "\n",
       "   mean_train_score  std_train_score  \n",
       "0          0.877532         0.005383  \n",
       "1          0.928153         0.003594  \n",
       "2          0.961382         0.002159  \n",
       "3          0.982082         0.001165  \n",
       "4          0.993563         0.000887  \n",
       "5          0.997044         0.001039  \n",
       "6          0.993747         0.006449  \n",
       "7          0.992696         0.001780  \n",
       "8          0.992000         0.003174  \n",
       "9          0.991652         0.004751  \n",
       "\n",
       "[10 rows x 21 columns]"
      ]
     },
     "execution_count": 61,
     "metadata": {},
     "output_type": "execute_result"
    }
   ],
   "source": [
    "df = pd.DataFrame(grid_search.cv_results_)\n",
    "df"
   ]
  },
  {
   "cell_type": "markdown",
   "metadata": {},
   "source": [
    "Pandas columns are also Numpy arrays, so they obey to the same indexing magic"
   ]
  },
  {
   "cell_type": "code",
   "execution_count": 62,
   "metadata": {
    "ExecuteTime": {
     "end_time": "2019-02-20T16:35:34.851638Z",
     "start_time": "2019-02-20T16:35:34.826575Z"
    }
   },
   "outputs": [
    {
     "data": {
      "text/html": [
       "<div>\n",
       "<style scoped>\n",
       "    .dataframe tbody tr th:only-of-type {\n",
       "        vertical-align: middle;\n",
       "    }\n",
       "\n",
       "    .dataframe tbody tr th {\n",
       "        vertical-align: top;\n",
       "    }\n",
       "\n",
       "    .dataframe thead th {\n",
       "        text-align: right;\n",
       "    }\n",
       "</style>\n",
       "<table border=\"1\" class=\"dataframe\">\n",
       "  <thead>\n",
       "    <tr style=\"text-align: right;\">\n",
       "      <th></th>\n",
       "      <th>mean_fit_time</th>\n",
       "      <th>std_fit_time</th>\n",
       "      <th>mean_score_time</th>\n",
       "      <th>std_score_time</th>\n",
       "      <th>param_C</th>\n",
       "      <th>params</th>\n",
       "      <th>split0_test_score</th>\n",
       "      <th>split1_test_score</th>\n",
       "      <th>split2_test_score</th>\n",
       "      <th>split3_test_score</th>\n",
       "      <th>...</th>\n",
       "      <th>mean_test_score</th>\n",
       "      <th>std_test_score</th>\n",
       "      <th>rank_test_score</th>\n",
       "      <th>split0_train_score</th>\n",
       "      <th>split1_train_score</th>\n",
       "      <th>split2_train_score</th>\n",
       "      <th>split3_train_score</th>\n",
       "      <th>split4_train_score</th>\n",
       "      <th>mean_train_score</th>\n",
       "      <th>std_train_score</th>\n",
       "    </tr>\n",
       "  </thead>\n",
       "  <tbody>\n",
       "    <tr>\n",
       "      <th>0</th>\n",
       "      <td>0.011427</td>\n",
       "      <td>0.000539</td>\n",
       "      <td>0.000306</td>\n",
       "      <td>0.000049</td>\n",
       "      <td>1e-06</td>\n",
       "      <td>{'C': 1e-06}</td>\n",
       "      <td>0.842466</td>\n",
       "      <td>0.871972</td>\n",
       "      <td>0.909091</td>\n",
       "      <td>0.842657</td>\n",
       "      <td>...</td>\n",
       "      <td>0.872651</td>\n",
       "      <td>0.027467</td>\n",
       "      <td>10</td>\n",
       "      <td>0.882969</td>\n",
       "      <td>0.880662</td>\n",
       "      <td>0.869679</td>\n",
       "      <td>0.881842</td>\n",
       "      <td>0.872507</td>\n",
       "      <td>0.877532</td>\n",
       "      <td>0.005383</td>\n",
       "    </tr>\n",
       "    <tr>\n",
       "      <th>1</th>\n",
       "      <td>0.011151</td>\n",
       "      <td>0.000381</td>\n",
       "      <td>0.000299</td>\n",
       "      <td>0.000110</td>\n",
       "      <td>1e-05</td>\n",
       "      <td>{'C': 1e-05}</td>\n",
       "      <td>0.907534</td>\n",
       "      <td>0.913495</td>\n",
       "      <td>0.944056</td>\n",
       "      <td>0.902098</td>\n",
       "      <td>...</td>\n",
       "      <td>0.919972</td>\n",
       "      <td>0.015905</td>\n",
       "      <td>9</td>\n",
       "      <td>0.929258</td>\n",
       "      <td>0.931185</td>\n",
       "      <td>0.922676</td>\n",
       "      <td>0.932233</td>\n",
       "      <td>0.925412</td>\n",
       "      <td>0.928153</td>\n",
       "      <td>0.003594</td>\n",
       "    </tr>\n",
       "    <tr>\n",
       "      <th>2</th>\n",
       "      <td>0.010509</td>\n",
       "      <td>0.000301</td>\n",
       "      <td>0.000258</td>\n",
       "      <td>0.000038</td>\n",
       "      <td>0.0001</td>\n",
       "      <td>{'C': 0.0001}</td>\n",
       "      <td>0.934932</td>\n",
       "      <td>0.941176</td>\n",
       "      <td>0.965035</td>\n",
       "      <td>0.940559</td>\n",
       "      <td>...</td>\n",
       "      <td>0.949896</td>\n",
       "      <td>0.013812</td>\n",
       "      <td>4</td>\n",
       "      <td>0.963319</td>\n",
       "      <td>0.964286</td>\n",
       "      <td>0.960035</td>\n",
       "      <td>0.960904</td>\n",
       "      <td>0.958369</td>\n",
       "      <td>0.961382</td>\n",
       "      <td>0.002159</td>\n",
       "    </tr>\n",
       "    <tr>\n",
       "      <th>3</th>\n",
       "      <td>0.020542</td>\n",
       "      <td>0.000409</td>\n",
       "      <td>0.000291</td>\n",
       "      <td>0.000038</td>\n",
       "      <td>0.001</td>\n",
       "      <td>{'C': 0.001}</td>\n",
       "      <td>0.958904</td>\n",
       "      <td>0.965398</td>\n",
       "      <td>0.965035</td>\n",
       "      <td>0.965035</td>\n",
       "      <td>...</td>\n",
       "      <td>0.966597</td>\n",
       "      <td>0.006563</td>\n",
       "      <td>1</td>\n",
       "      <td>0.982533</td>\n",
       "      <td>0.982578</td>\n",
       "      <td>0.983493</td>\n",
       "      <td>0.980017</td>\n",
       "      <td>0.981787</td>\n",
       "      <td>0.982082</td>\n",
       "      <td>0.001165</td>\n",
       "    </tr>\n",
       "  </tbody>\n",
       "</table>\n",
       "<p>4 rows × 21 columns</p>\n",
       "</div>"
      ],
      "text/plain": [
       "   mean_fit_time  std_fit_time  mean_score_time  std_score_time param_C  \\\n",
       "0       0.011427      0.000539         0.000306        0.000049   1e-06   \n",
       "1       0.011151      0.000381         0.000299        0.000110   1e-05   \n",
       "2       0.010509      0.000301         0.000258        0.000038  0.0001   \n",
       "3       0.020542      0.000409         0.000291        0.000038   0.001   \n",
       "\n",
       "          params  split0_test_score  split1_test_score  split2_test_score  \\\n",
       "0   {'C': 1e-06}           0.842466           0.871972           0.909091   \n",
       "1   {'C': 1e-05}           0.907534           0.913495           0.944056   \n",
       "2  {'C': 0.0001}           0.934932           0.941176           0.965035   \n",
       "3   {'C': 0.001}           0.958904           0.965398           0.965035   \n",
       "\n",
       "   split3_test_score       ...         mean_test_score  std_test_score  \\\n",
       "0           0.842657       ...                0.872651        0.027467   \n",
       "1           0.902098       ...                0.919972        0.015905   \n",
       "2           0.940559       ...                0.949896        0.013812   \n",
       "3           0.965035       ...                0.966597        0.006563   \n",
       "\n",
       "   rank_test_score  split0_train_score  split1_train_score  \\\n",
       "0               10            0.882969            0.880662   \n",
       "1                9            0.929258            0.931185   \n",
       "2                4            0.963319            0.964286   \n",
       "3                1            0.982533            0.982578   \n",
       "\n",
       "   split2_train_score  split3_train_score  split4_train_score  \\\n",
       "0            0.869679            0.881842            0.872507   \n",
       "1            0.922676            0.932233            0.925412   \n",
       "2            0.960035            0.960904            0.958369   \n",
       "3            0.983493            0.980017            0.981787   \n",
       "\n",
       "   mean_train_score  std_train_score  \n",
       "0          0.877532         0.005383  \n",
       "1          0.928153         0.003594  \n",
       "2          0.961382         0.002159  \n",
       "3          0.982082         0.001165  \n",
       "\n",
       "[4 rows x 21 columns]"
      ]
     },
     "execution_count": 62,
     "metadata": {},
     "output_type": "execute_result"
    }
   ],
   "source": [
    "df[df['param_C'] < 0.01]"
   ]
  },
  {
   "cell_type": "markdown",
   "metadata": {},
   "source": [
    "They also provide most functionality you would expect as database user (`df.sort_values`, `df.groupby`, `df.join`, `df.concat`, etc.)"
   ]
  },
  {
   "cell_type": "code",
   "execution_count": 63,
   "metadata": {
    "ExecuteTime": {
     "end_time": "2019-02-20T16:35:35.071086Z",
     "start_time": "2019-02-20T16:35:34.853988Z"
    },
    "scrolled": false
   },
   "outputs": [
    {
     "data": {
      "image/png": "[encoded data removed]",
      "text/plain": [
       "<Figure size 720x504 with 1 Axes>"
      ]
     },
     "metadata": {},
     "output_type": "display_data"
    }
   ],
   "source": [
    "fig, ax = plt.subplots()\n",
    "ax.plot(df['mean_test_score'], label=\"validation error\")\n",
    "ax.plot(df['mean_train_score'], label=\"training error\")\n",
    "ax.set_xticklabels(df['param_C'])\n",
    "ax.set_xlabel(\"C\")\n",
    "ax.set_ylabel(\"Accuracy\")\n",
    "ax.legend(loc='best');"
   ]
  },
  {
   "cell_type": "markdown",
   "metadata": {
    "ExecuteTime": {
     "end_time": "2019-02-19T20:36:16.683621Z",
     "start_time": "2019-02-19T20:36:16.679694Z"
    }
   },
   "source": [
    "## Other packages "
   ]
  },
  {
   "cell_type": "markdown",
   "metadata": {},
   "source": [
    "Other packages that didn't make the cut:\n",
    "- [Plotly](https://plot.ly) and [Seaborn](http://seaborn.pydata.org): two other plotting libraries\n",
    "- [Scipy](https://www.scipy.org): a science library built on top of Numpy\n",
    "- [Scrapy](https://www.scipy.org): a web crawling library\n",
    "- [pdb](https://docs.python.org/3/library/pdb.html): a debugger for python (not ML-specific but terribly useful)\n",
    "- [tqdm](https://github.com/tqdm/tqdm): a progress bar (not ML-specific)\n",
    "\n",
    "Next time:\n",
    "- [Pytorch](https://pytorch.org)"
   ]
  }
 ],
 "metadata": {
  "kernelspec": {
   "display_name": "Python 3",
   "language": "python",
   "name": "python3"
  },
  "language_info": {
   "codemirror_mode": {
    "name": "ipython",
    "version": 3
   },
   "file_extension": ".py",
   "mimetype": "text/x-python",
   "name": "python",
   "nbconvert_exporter": "python",
   "pygments_lexer": "ipython3",
   "version": "3.6.5"
  },
  "toc": {
   "base_numbering": 1,
   "nav_menu": {},
   "number_sections": true,
   "sideBar": true,
   "skip_h1_title": false,
   "title_cell": "Table of Contents",
   "title_sidebar": "Contents",
   "toc_cell": false,
   "toc_position": {
    "height": "calc(100% - 180px)",
    "left": "10px",
    "top": "150px",
    "width": "164px"
   },
   "toc_section_display": true,
   "toc_window_display": true
  }
 },
 "nbformat": 4,
 "nbformat_minor": 2
}
